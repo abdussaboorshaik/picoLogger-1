{
 "cells": [
  {
   "attachments": {},
   "cell_type": "markdown",
   "metadata": {},
   "source": [
    "## Imports\n"
   ]
  },
  {
   "cell_type": "code",
   "execution_count": null,
   "metadata": {},
   "outputs": [],
   "source": [
    "import os\n",
    "import sys\n",
    "import pandas as pd\n"
   ]
  },
  {
   "cell_type": "code",
   "execution_count": null,
   "metadata": {},
   "outputs": [],
   "source": [
    "### package versions\n",
    "packList=[\"pandas\",\"altair\",\"numpy\",\"itkdb\"]\n",
    "for p in packList:\n",
    "    if p in sys.modules.keys():\n",
    "        mod=sys.modules.get(p)\n",
    "        print(mod.__name__+\" : \"+mod.__version__)\n"
   ]
  },
  {
   "attachments": {},
   "cell_type": "markdown",
   "metadata": {},
   "source": [
    "## Read in Data\n",
    "read raw format\n",
    " - ../exampleData.txt"
   ]
  },
  {
   "cell_type": "code",
   "execution_count": null,
   "metadata": {},
   "outputs": [],
   "source": [
    "### list files in above directory\n",
    "cwd = os.getcwd()\n",
    "dataDir=cwd+\"/../\"\n",
    "os.listdir(dataDir)"
   ]
  },
  {
   "attachments": {},
   "cell_type": "markdown",
   "metadata": {},
   "source": [
    "## Format raw data for PDB upload\n",
    "Data structure from PDB with junk values\n",
    " - replace with real data"
   ]
  },
  {
   "cell_type": "code",
   "execution_count": null,
   "metadata": {},
   "outputs": [],
   "source": [
    "uploadDict={\n",
    "  \"component\": \"...\",\n",
    "  \"testType\": \"HV_LV_TEST\",\n",
    "  \"institution\": \"...\",\n",
    "  \"runNumber\": \"...\",\n",
    "  \"date\": \"2023-07-19T11:19:48.723Z\",\n",
    "  \"passed\": true,\n",
    "  \"problems\": false,\n",
    "  \"properties\": {\n",
    "    \"OPERATOR\": \"OOPNUXAFDXUQBNZZVZJJPDEIGRKWVN\",\n",
    "    \"INSTRUMENT\": \"FHFBZJWPMWMNHWLNIUNKJCPNISHRYD\",\n",
    "    \"ANALYSIS_VERSION\": \"KKHFUPASPTKBSZEJGAYITOJESLSYAU\"\n",
    "  },\n",
    "  \"results\": {\n",
    "    \"VIN_DROP\": 591.84,\n",
    "    \"GND_DROP\": 277.7,\n",
    "    \"EFFECTIVE_RESISTANCE\": 530.45,\n",
    "    \"HV_LEAKAGE\": 328.65,\n",
    "    \"LEAKAGE_CURRENT\": 283.92,\n",
    "    \"NTC_VOLTAGE\": 439.96,\n",
    "    \"NTC_VALUE\": 537.69,\n",
    "    \"TEMPERATURE\": 631.22,\n",
    "    \"DAMAGE_COMMENT\": \"RQIPMUBHWGXVPHHLTYOGNPAOFQFZSN\",\n",
    "    \"R1_HV_RESISTOR\": 472.13,\n",
    "    \"RELATIVE_HUMIDITY\": 63.18\n",
    "  }\n",
    "}"
   ]
  },
  {
   "attachments": {},
   "cell_type": "markdown",
   "metadata": {},
   "source": [
    "## Visualise formatted data\n",
    "tables and plots using pandas and altair"
   ]
  },
  {
   "cell_type": "code",
   "execution_count": null,
   "metadata": {},
   "outputs": [],
   "source": []
  }
 ],
 "metadata": {
  "kernelspec": {
   "display_name": "Python 3",
   "language": "python",
   "name": "python3"
  },
  "language_info": {
   "codemirror_mode": {
    "name": "ipython",
    "version": 3
   },
   "file_extension": ".py",
   "mimetype": "text/x-python",
   "name": "python",
   "nbconvert_exporter": "python",
   "pygments_lexer": "ipython3",
   "version": "3.10.4"
  },
  "orig_nbformat": 4
 },
 "nbformat": 4,
 "nbformat_minor": 2
}
